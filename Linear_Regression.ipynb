{
  "nbformat": 4,
  "nbformat_minor": 0,
  "metadata": {
    "colab": {
      "name": "Linear Regression.ipynb",
      "provenance": [],
      "collapsed_sections": [],
      "authorship_tag": "ABX9TyNMoQ07Yg/AJPWvwb8Mu8tm",
      "include_colab_link": true
    },
    "kernelspec": {
      "name": "python3",
      "display_name": "Python 3"
    }
  },
  "cells": [
    {
      "cell_type": "markdown",
      "metadata": {
        "id": "view-in-github",
        "colab_type": "text"
      },
      "source": [
        "<a href=\"https://colab.research.google.com/github/sancoap/pytorch1/blob/main/Linear_Regression.ipynb\" target=\"_parent\"><img src=\"https://colab.research.google.com/assets/colab-badge.svg\" alt=\"Open In Colab\"/></a>"
      ]
    },
    {
      "cell_type": "code",
      "metadata": {
        "id": "fVtBz-fjbj4p"
      },
      "source": [
        "import torch \n",
        "import torch.nn as nn #module that contains a lot of useful stuff in pytorch\n",
        "import numpy as np\n",
        "import matplotlib.pyplot as plt"
      ],
      "execution_count": 1,
      "outputs": []
    },
    {
      "cell_type": "code",
      "metadata": {
        "id": "__-UY2ZSb0d0"
      },
      "source": [
        "#generate a data set of 20 random points\n",
        "N = 20\n",
        "X = np.random.random(N)*10 - 5\n",
        "Y = 0.5 * X - 1 + np.random.randn(N)\n"
      ],
      "execution_count": 26,
      "outputs": []
    },
    {
      "cell_type": "code",
      "metadata": {
        "colab": {
          "base_uri": "https://localhost:8080/",
          "height": 282
        },
        "id": "BYc8DFBlc4DV",
        "outputId": "29a23a00-2446-4902-e749-4447e9b40d7a"
      },
      "source": [
        "#generate plot\n",
        "plt.scatter(X,Y)"
      ],
      "execution_count": 27,
      "outputs": [
        {
          "output_type": "execute_result",
          "data": {
            "text/plain": [
              "<matplotlib.collections.PathCollection at 0x7f91f36c38d0>"
            ]
          },
          "metadata": {
            "tags": []
          },
          "execution_count": 27
        },
        {
          "output_type": "display_data",
          "data": {
            "image/png": "[encoded data removed]",
            "text/plain": [
              "<Figure size 432x288 with 1 Axes>"
            ]
          },
          "metadata": {
            "tags": [],
            "needs_background": "light"
          }
        }
      ]
    },
    {
      "cell_type": "code",
      "metadata": {
        "id": "pe2jnJBCdP8l"
      },
      "source": [
        "#Now the Pytorch code starts\n",
        "#linear model with 1 input and 1 output parameter, 1 X-Axis and 1 Y-Axis\n",
        "model = nn.Linear(1,1)\n"
      ],
      "execution_count": 28,
      "outputs": []
    },
    {
      "cell_type": "code",
      "metadata": {
        "id": "Jmb9hth8dhGm"
      },
      "source": [
        "#Define training process by defining the Loss and Optimizer\n",
        "criterion = nn.MSELoss()\n",
        "optimizer = torch.optim.SGD(model.parameters(), lr=0.1)"
      ],
      "execution_count": 29,
      "outputs": []
    },
    {
      "cell_type": "code",
      "metadata": {
        "id": "ouvVCIOzd42G"
      },
      "source": [
        "#Transform X and Y into data types that is relevant for PyTroch\n",
        "#We have to shape our data (Num_of_samples * Num_of_dims)\n",
        "X = X.reshape(N,1)\n",
        "Y = Y.reshape(N,1)\n",
        "\n"
      ],
      "execution_count": 30,
      "outputs": []
    },
    {
      "cell_type": "code",
      "metadata": {
        "id": "iKZAVKQqeZJH"
      },
      "source": [
        "#PyTorch requires you to create Torch Tensors from Numpy Arrays\n",
        "#PyTorch uses float32 by default and numpy uses float64\n",
        "#You have to cast down for converting Numpy Arrays into Torch Tensors\n",
        "inputs = torch.from_numpy(X.astype(np.float32))\n",
        "targets = torch.from_numpy(Y.astype(np.float32))\n"
      ],
      "execution_count": 31,
      "outputs": []
    },
    {
      "cell_type": "code",
      "metadata": {
        "colab": {
          "base_uri": "https://localhost:8080/"
        },
        "id": "n_PgF_iQe9Mk",
        "outputId": "7dd41938-b08d-412a-9a6a-6affeb9bbf95"
      },
      "source": [
        "type(inputs)"
      ],
      "execution_count": 32,
      "outputs": [
        {
          "output_type": "execute_result",
          "data": {
            "text/plain": [
              "torch.Tensor"
            ]
          },
          "metadata": {
            "tags": []
          },
          "execution_count": 32
        }
      ]
    },
    {
      "cell_type": "code",
      "metadata": {
        "colab": {
          "base_uri": "https://localhost:8080/"
        },
        "id": "VNclptZse_Dv",
        "outputId": "190b5ab1-6ad2-407f-ffe2-e327ccbd78bf"
      },
      "source": [
        "#Train the model\n",
        "#As gradient descent is an iterative process, we have to define a number of iterations or epocs\n",
        "#Since the data is random, this might NOT work every time. I saw that losses were not converging in some cases!!!\n",
        "\n",
        "n_epochs = 30\n",
        "losses = []\n",
        "for it in range(n_epochs):\n",
        "  #zero the parameter gradients\n",
        "  optimizer.zero_grad()\n",
        "\n",
        "  #forward pass\n",
        "  outputs = model(inputs)\n",
        "  loss = criterion(outputs,targets)\n",
        "\n",
        "  #keep the losses so we can plot it later\n",
        "  #note that item() is python function, not numpy \n",
        "  #since loss is a single value, we don't use a numpy array to store it \n",
        "  losses.append(loss.item())\n",
        "\n",
        "  #backward pass\n",
        "  loss.backward()\n",
        "  optimizer.step()\n",
        "\n",
        "  print(f'Epoch {it+1}/{n_epochs}, Loss: {loss.item():.4f}')\n",
        "\n",
        "\n",
        "\n"
      ],
      "execution_count": 33,
      "outputs": [
        {
          "output_type": "stream",
          "text": [
            "Epoch 1/30, Loss: 0.6068\n",
            "Epoch 2/30, Loss: 0.5628\n",
            "Epoch 3/30, Loss: 0.5340\n",
            "Epoch 4/30, Loss: 0.5150\n",
            "Epoch 5/30, Loss: 0.5025\n",
            "Epoch 6/30, Loss: 0.4943\n",
            "Epoch 7/30, Loss: 0.4889\n",
            "Epoch 8/30, Loss: 0.4854\n",
            "Epoch 9/30, Loss: 0.4830\n",
            "Epoch 10/30, Loss: 0.4815\n",
            "Epoch 11/30, Loss: 0.4804\n",
            "Epoch 12/30, Loss: 0.4798\n",
            "Epoch 13/30, Loss: 0.4793\n",
            "Epoch 14/30, Loss: 0.4790\n",
            "Epoch 15/30, Loss: 0.4788\n",
            "Epoch 16/30, Loss: 0.4787\n",
            "Epoch 17/30, Loss: 0.4786\n",
            "Epoch 18/30, Loss: 0.4786\n",
            "Epoch 19/30, Loss: 0.4785\n",
            "Epoch 20/30, Loss: 0.4785\n",
            "Epoch 21/30, Loss: 0.4785\n",
            "Epoch 22/30, Loss: 0.4785\n",
            "Epoch 23/30, Loss: 0.4785\n",
            "Epoch 24/30, Loss: 0.4785\n",
            "Epoch 25/30, Loss: 0.4785\n",
            "Epoch 26/30, Loss: 0.4785\n",
            "Epoch 27/30, Loss: 0.4785\n",
            "Epoch 28/30, Loss: 0.4785\n",
            "Epoch 29/30, Loss: 0.4785\n",
            "Epoch 30/30, Loss: 0.4785\n"
          ],
          "name": "stdout"
        }
      ]
    },
    {
      "cell_type": "code",
      "metadata": {
        "colab": {
          "base_uri": "https://localhost:8080/",
          "height": 282
        },
        "id": "ma8UGkHkhPu9",
        "outputId": "62654421-41a6-44d3-a023-2e0bf3ebb0c3"
      },
      "source": [
        "plt.plot(losses)"
      ],
      "execution_count": 34,
      "outputs": [
        {
          "output_type": "execute_result",
          "data": {
            "text/plain": [
              "[<matplotlib.lines.Line2D at 0x7f91f36af850>]"
            ]
          },
          "metadata": {
            "tags": []
          },
          "execution_count": 34
        },
        {
          "output_type": "display_data",
          "data": {
            "image/png": "[encoded data removed]",
            "text/plain": [
              "<Figure size 432x288 with 1 Axes>"
            ]
          },
          "metadata": {
            "tags": [],
            "needs_background": "light"
          }
        }
      ]
    },
    {
      "cell_type": "code",
      "metadata": {
        "colab": {
          "base_uri": "https://localhost:8080/",
          "height": 265
        },
        "id": "JZ8S8xutixCA",
        "outputId": "1af514c0-df28-4881-8e61-37713e88ebcc"
      },
      "source": [
        "#use the trained model to make predictions and plot the result\n",
        "#here were detach the torch tensor as we want to use a numpy array to plot the data\n",
        "\n",
        "predicted = model(inputs).detach().numpy()\n",
        "plt.scatter(X,Y, label= \"orignal data\")\n",
        "plt.plot(X,predicted, label = 'Fitted Line')\n",
        "plt.legend()\n",
        "plt.show()"
      ],
      "execution_count": 35,
      "outputs": [
        {
          "output_type": "display_data",
          "data": {
            "image/png": "[encoded data removed]",
            "text/plain": [
              "<Figure size 432x288 with 1 Axes>"
            ]
          },
          "metadata": {
            "tags": [],
            "needs_background": "light"
          }
        }
      ]
    },
    {
      "cell_type": "code",
      "metadata": {
        "colab": {
          "base_uri": "https://localhost:8080/"
        },
        "id": "EnTrzcKrjxlX",
        "outputId": "a4d39cbb-5218-47e8-fd10-0cfa512f143a"
      },
      "source": [
        "#This is an important step for synthetic data\n",
        "w = model.weight.data.numpy()\n",
        "b = model.bias.data.numpy()\n",
        "print(w,b)"
      ],
      "execution_count": 36,
      "outputs": [
        {
          "output_type": "stream",
          "text": [
            "[[0.45273742]] [-0.33605134]\n"
          ],
          "name": "stdout"
        }
      ]
    },
    {
      "cell_type": "code",
      "metadata": {
        "id": "gJWoXzEblE5J"
      },
      "source": [
        ""
      ],
      "execution_count": null,
      "outputs": []
    }
  ]
}