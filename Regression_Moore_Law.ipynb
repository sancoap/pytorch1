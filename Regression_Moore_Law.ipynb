{
  "nbformat": 4,
  "nbformat_minor": 0,
  "metadata": {
    "colab": {
      "name": "Regression Moore Law.ipynb",
      "provenance": [],
      "collapsed_sections": [],
      "authorship_tag": "ABX9TyN60m0sOggUINgVoGx4N9UL",
      "include_colab_link": true
    },
    "kernelspec": {
      "name": "python3",
      "display_name": "Python 3"
    }
  },
  "cells": [
    {
      "cell_type": "markdown",
      "metadata": {
        "id": "view-in-github",
        "colab_type": "text"
      },
      "source": [
        "<a href=\"https://colab.research.google.com/github/sancoap/pytorch1/blob/main/Regression_Moore_Law.ipynb\" target=\"_parent\"><img src=\"https://colab.research.google.com/assets/colab-badge.svg\" alt=\"Open In Colab\"/></a>"
      ]
    },
    {
      "cell_type": "code",
      "metadata": {
        "id": "_F_4RjfE8jcq"
      },
      "source": [
        "#pandas is useful for working with CSV files\n",
        "#numpy is for numerical operations on matrices etc.\n",
        "#plt is for plotting the data\n",
        "#torch is pytorch\n",
        "#torch.nn has utilities that we use e.g.\n",
        "\n",
        "import torch\n",
        "import torch.nn as nn\n",
        "import matplotlib.pyplot as plt\n",
        "import numpy as np\n",
        "import pandas as pd\n",
        "\n"
      ],
      "execution_count": 7,
      "outputs": []
    },
    {
      "cell_type": "code",
      "metadata": {
        "colab": {
          "base_uri": "https://localhost:8080/"
        },
        "id": "MXyK1BQPAzDD",
        "outputId": "0d99f714-70c3-44d0-c046-109074932b72"
      },
      "source": [
        "#Retrieve the dataset using wget, bang (!) is for executing linux cmd in notebooks\n",
        "#nc is no-clobber, if file already exists, it will not be downloaded again\n",
        "#I just downloaded the files, its available here - https://github.com/lazyprogrammer/machine_learning_examples/blob/master/tf2.0/moore.csv\n",
        "#This URL is INCORRECT!!\n",
        "!wget -nc https://github.com/lazyprogrammer/machine_learning_examples/tree/master/linear_regression_class/moore.csv\n"
      ],
      "execution_count": 8,
      "outputs": [
        {
          "output_type": "stream",
          "text": [
            "File ‘moore.csv’ already there; not retrieving.\n",
            "\n"
          ],
          "name": "stdout"
        }
      ]
    },
    {
      "cell_type": "code",
      "metadata": {
        "id": "YuNKxcQQBB3j"
      },
      "source": [
        "#Read the Data using Pandas\n",
        "#this 'data' denotes a dataframe, print(type(data))\n",
        "#in pandas .values returns the Numpy representation of the data\n",
        "#only values are returned in an Array\n",
        "data = pd.read_csv('moore.csv', header=None).values\n"
      ],
      "execution_count": 27,
      "outputs": []
    },
    {
      "cell_type": "code",
      "metadata": {
        "colab": {
          "base_uri": "https://localhost:8080/"
        },
        "id": "a2045JUqCsWw",
        "outputId": "cdbc531e-c3da-46dc-d072-d0185c4471d0"
      },
      "source": [
        "#to preview data, just type data!!!\n",
        "data\n"
      ],
      "execution_count": 28,
      "outputs": [
        {
          "output_type": "execute_result",
          "data": {
            "text/plain": [
              "array([[       1971,        2300],\n",
              "       [       1972,        3500],\n",
              "       [       1973,        2500],\n",
              "       [       1973,        2500],\n",
              "       [       1974,        4100],\n",
              "       [       1974,        4500],\n",
              "       [       1974,        8000],\n",
              "       [       1975,        3510],\n",
              "       [       1976,        5000],\n",
              "       [       1976,        8500],\n",
              "       [       1976,        6500],\n",
              "       [       1978,        9000],\n",
              "       [       1978,       29000],\n",
              "       [       1979,       17500],\n",
              "       [       1979,       29000],\n",
              "       [       1979,       68000],\n",
              "       [       1981,       11500],\n",
              "       [       1982,       55000],\n",
              "       [       1982,      134000],\n",
              "       [       1983,       22000],\n",
              "       [       1984,       63000],\n",
              "       [       1984,      190000],\n",
              "       [       1985,      275000],\n",
              "       [       1985,       25000],\n",
              "       [       1985,       16000],\n",
              "       [       1986,      110000],\n",
              "       [       1986,      375000],\n",
              "       [       1986,       30000],\n",
              "       [       1987,      385000],\n",
              "       [       1987,      730000],\n",
              "       [       1987,      273000],\n",
              "       [       1987,      553000],\n",
              "       [       1988,      180000],\n",
              "       [       1988,      250000],\n",
              "       [       1989,      600000],\n",
              "       [       1989,     1000000],\n",
              "       [       1989,     1180235],\n",
              "       [       1989,      310000],\n",
              "       [       1990,     1200000],\n",
              "       [       1991,     1350000],\n",
              "       [       1991,       35000],\n",
              "       [       1992,      600000],\n",
              "       [       1992,      900000],\n",
              "       [       1993,     2800000],\n",
              "       [       1993,     3100000],\n",
              "       [       1994,      578977],\n",
              "       [       1994,     2500000],\n",
              "       [       1995,     2500000],\n",
              "       [       1999,      111000],\n",
              "       [       1995,     5500000],\n",
              "       [       1996,     4300000],\n",
              "       [       1997,    10000000],\n",
              "       [       1997,     7500000],\n",
              "       [       1997,     8800000],\n",
              "       [       1998,     7500000],\n",
              "       [       1999,     9500000],\n",
              "       [       1999,    13500000],\n",
              "       [       2000,    21000000],\n",
              "       [       2000,    21000000],\n",
              "       [       1999,    27400000],\n",
              "       [       1999,    21300000],\n",
              "       [       1999,    22000000],\n",
              "       [       2000,    42000000],\n",
              "       [       2001,   191000000],\n",
              "       [       2001,    45000000],\n",
              "       [       2002,    55000000],\n",
              "       [       2004,   112000000],\n",
              "       [       2004,   400000000],\n",
              "       [       2005,   169000000],\n",
              "       [       2006,   184000000],\n",
              "       [       2005,   228000000],\n",
              "       [       2006,   362000000],\n",
              "       [       2007,   540000000],\n",
              "       [       2008,    47000000],\n",
              "       [       2003,    54300000],\n",
              "       [       2003,   105900000],\n",
              "       [       2002,   220000000],\n",
              "       [       2005,   165000000],\n",
              "       [       2005,   250000000],\n",
              "       [       2006,   291000000],\n",
              "       [       2007,   169000000],\n",
              "       [       2003,   410000000],\n",
              "       [       2008,   600000000],\n",
              "       [       2009,   760000000],\n",
              "       [       2011,  1870000000],\n",
              "       [       2012,   432000000],\n",
              "       [       2007,   463000000],\n",
              "       [       2007,    26000000],\n",
              "       [       2008,   230000000],\n",
              "       [       2004,   592000000],\n",
              "       [       2007,   411000000],\n",
              "       [       2008,   731000000],\n",
              "       [       2008,   758000000],\n",
              "       [       2007,   789000000],\n",
              "       [       2009,   904000000],\n",
              "       [       2010,  1000000000],\n",
              "       [       2012,  2990000000],\n",
              "       [       2013,  1000000000],\n",
              "       [       2011,  1160000000],\n",
              "       [       2010,  1170000000],\n",
              "       [       2010,  1200000000],\n",
              "       [       2012,  1200000000],\n",
              "       [       2012,  1303000000],\n",
              "       [       2010,  1400000000],\n",
              "       [       2012,  1400000000],\n",
              "       [       2014,  1400000000],\n",
              "       [       2006,  1700000000],\n",
              "       [       2015,  1750000000],\n",
              "       [       2013,  1860000000],\n",
              "       [       2015,  1900000000],\n",
              "       [       2008,  1900000000],\n",
              "       [       2010,  2000000000],\n",
              "       [       2014,  2000000000],\n",
              "       [       2015,  2000000000],\n",
              "       [       2015,  3000000000],\n",
              "       [       2012,  2100000000],\n",
              "       [       2011,  2270000000],\n",
              "       [       2010,  2300000000],\n",
              "       [       2014,  2600000000],\n",
              "       [       2011,  2600000000],\n",
              "       [       2012,  2750000000],\n",
              "       [       2014,  3000000000],\n",
              "       [       2016,  3000000000],\n",
              "       [       2017,  5300000000],\n",
              "       [       2017,  5300000000],\n",
              "       [       2018,  8500000000],\n",
              "       [       2012,  3100000000],\n",
              "       [       2016,  3200000000],\n",
              "       [       2016,  3300000000],\n",
              "       [       2015,  3990000000],\n",
              "       [       2013,  4200000000],\n",
              "       [       2017,  4300000000],\n",
              "       [       2014,  4310000000],\n",
              "       [       2017,  4800000000],\n",
              "       [       2017,  4800000000],\n",
              "       [       2017,  4800000000],\n",
              "       [       2012,  5000000000],\n",
              "       [       2013,  5000000000],\n",
              "       [       2014,  5560000000],\n",
              "       [       2017,  6100000000],\n",
              "       [       2018,  6900000000],\n",
              "       [       2016,  4000000000],\n",
              "       [       2018,  6900000000],\n",
              "       [       2017,  5500000000],\n",
              "       [       2018,  5500000000],\n",
              "       [       2017,  7000000000],\n",
              "       [       2015,  7100000000],\n",
              "       [       2017,  8000000000],\n",
              "       [       2016,  7200000000],\n",
              "       [       2017,  8000000000],\n",
              "       [       2016,  8000000000],\n",
              "       [       2017,  9700000000],\n",
              "       [       2017,   250000000],\n",
              "       [       2015, 10000000000],\n",
              "       [       2017,  5450000000],\n",
              "       [       2018, 10000000000],\n",
              "       [       2017,  4300000000],\n",
              "       [       2017, 18000000000],\n",
              "       [       2017, 19200000000],\n",
              "       [       2018,  8876000000],\n",
              "       [       2018, 23600000000],\n",
              "       [       2018,  9000000000]])"
            ]
          },
          "metadata": {
            "tags": []
          },
          "execution_count": 28
        }
      ]
    },
    {
      "cell_type": "code",
      "metadata": {
        "colab": {
          "base_uri": "https://localhost:8080/"
        },
        "id": "ICsLYsvDGSXe",
        "outputId": "2d0234c6-fbe8-43f6-8103-f8059e351147"
      },
      "source": [
        "#num of rows * num of cols\n",
        "data.shape\n"
      ],
      "execution_count": 29,
      "outputs": [
        {
          "output_type": "execute_result",
          "data": {
            "text/plain": [
              "(162, 2)"
            ]
          },
          "metadata": {
            "tags": []
          },
          "execution_count": 29
        }
      ]
    },
    {
      "cell_type": "code",
      "metadata": {
        "colab": {
          "base_uri": "https://localhost:8080/"
        },
        "id": "G-dwz0zbGTLp",
        "outputId": "a1498d42-0650-4682-c97f-c0e3b387272f"
      },
      "source": [
        "#dimensions of data (columns)\n",
        "data.ndim"
      ],
      "execution_count": 30,
      "outputs": [
        {
          "output_type": "execute_result",
          "data": {
            "text/plain": [
              "2"
            ]
          },
          "metadata": {
            "tags": []
          },
          "execution_count": 30
        }
      ]
    },
    {
      "cell_type": "code",
      "metadata": {
        "id": "pjUQOZ2HGVj0"
      },
      "source": [
        "#this work for pandas and not a numpy array (which is returned if I use .values)\n",
        "#data.head"
      ],
      "execution_count": 33,
      "outputs": []
    },
    {
      "cell_type": "code",
      "metadata": {
        "id": "pWFs4DL-GmTq"
      },
      "source": [
        "#data.tail(10)"
      ],
      "execution_count": 32,
      "outputs": []
    },
    {
      "cell_type": "code",
      "metadata": {
        "id": "AizZJLpzGoDh"
      },
      "source": [
        "#X represents ALL the rows for Column 0\n",
        "X = data[:,0].reshape(-1,1) \n",
        "#X"
      ],
      "execution_count": 38,
      "outputs": []
    },
    {
      "cell_type": "code",
      "metadata": {
        "id": "kapB0Pb_H3Se"
      },
      "source": [
        "#Y represents ALL the rows for column 1\n",
        "Y = data[:,1].reshape(-1,1) \n",
        "#Y"
      ],
      "execution_count": 39,
      "outputs": []
    },
    {
      "cell_type": "code",
      "metadata": {
        "colab": {
          "base_uri": "https://localhost:8080/",
          "height": 293
        },
        "id": "Q9KOLSPUJvEV",
        "outputId": "e4760635-88bf-4c69-e28b-1fc6773ff51d"
      },
      "source": [
        "#a nice exponential data representation is shows, number of transistors vs. year\n",
        "#the scale of Y-Axis is based on the range of the transistors\n",
        "plt.scatter(X,Y)"
      ],
      "execution_count": 40,
      "outputs": [
        {
          "output_type": "execute_result",
          "data": {
            "text/plain": [
              "<matplotlib.collections.PathCollection at 0x7fe7ee5ba0d0>"
            ]
          },
          "metadata": {
            "tags": []
          },
          "execution_count": 40
        },
        {
          "output_type": "display_data",
          "data": {
            "image/png": "[encoded data removed]",
            "text/plain": [
              "<Figure size 432x288 with 1 Axes>"
            ]
          },
          "metadata": {
            "tags": [],
            "needs_background": "light"
          }
        }
      ]
    },
    {
      "cell_type": "code",
      "metadata": {
        "colab": {
          "base_uri": "https://localhost:8080/",
          "height": 282
        },
        "id": "DblJqdt6JvsF",
        "outputId": "a8d04ec1-7da4-40b6-888a-7bd0b49a7b80"
      },
      "source": [
        "#if we take the log, this turns into a LINEAR function,\n",
        "#so we can use the log and solve this as a linear regression problem\n",
        "#since Y is growing exponentially, and X is the year, we don't need to take log of X\n",
        "#The Y axis is now representing the log of the value of the transistors\n",
        "Y = np.log(Y)\n",
        "plt.scatter(X,Y)"
      ],
      "execution_count": 41,
      "outputs": [
        {
          "output_type": "execute_result",
          "data": {
            "text/plain": [
              "<matplotlib.collections.PathCollection at 0x7fe7ee4b5ed0>"
            ]
          },
          "metadata": {
            "tags": []
          },
          "execution_count": 41
        },
        {
          "output_type": "display_data",
          "data": {
            "image/png": "[encoded data removed]",
            "text/plain": [
              "<Figure size 432x288 with 1 Axes>"
            ]
          },
          "metadata": {
            "tags": [],
            "needs_background": "light"
          }
        }
      ]
    },
    {
      "cell_type": "code",
      "metadata": {
        "id": "j26L1Np5KgeG"
      },
      "source": [
        "#Now we need to scale and center the X and Y Axes\n",
        "#Basically we are normalizing the data here\n",
        "#Note the Units no longer make sense\n",
        "meanx = X.mean()\n",
        "stdx = X.std()\n",
        "meany = Y.mean()\n",
        "stdy = Y.std()\n",
        "X = (X - meanx) / stdx \n",
        "Y = (Y - meany) / stdy \n",
        "\n"
      ],
      "execution_count": 42,
      "outputs": []
    },
    {
      "cell_type": "code",
      "metadata": {
        "colab": {
          "base_uri": "https://localhost:8080/",
          "height": 282
        },
        "id": "aBGTLvy5Lm7O",
        "outputId": "d74a60e8-da04-4cc8-a5b4-c6a676ab7981"
      },
      "source": [
        "#Essentially the same plot but in a small range\n",
        "plt.scatter(X,Y)"
      ],
      "execution_count": 43,
      "outputs": [
        {
          "output_type": "execute_result",
          "data": {
            "text/plain": [
              "<matplotlib.collections.PathCollection at 0x7fe7edde7a90>"
            ]
          },
          "metadata": {
            "tags": []
          },
          "execution_count": 43
        },
        {
          "output_type": "display_data",
          "data": {
            "image/png": "[encoded data removed]",
            "text/plain": [
              "<Figure size 432x288 with 1 Axes>"
            ]
          },
          "metadata": {
            "tags": [],
            "needs_background": "light"
          }
        }
      ]
    },
    {
      "cell_type": "code",
      "metadata": {
        "id": "d5ogthlVLy6I"
      },
      "source": [
        "#Now we need to pre-process data to convert it into Float32 so we can work with Torch Tensors\n",
        "X = X.astype(np.float32)\n",
        "Y = Y.astype(np.float32)\n"
      ],
      "execution_count": 44,
      "outputs": []
    },
    {
      "cell_type": "code",
      "metadata": {
        "id": "n62PF_2YMY9_"
      },
      "source": [
        "#Create the model\n",
        "#1 input and 1 output\n",
        "model = nn.Linear(1,1)"
      ],
      "execution_count": 45,
      "outputs": []
    },
    {
      "cell_type": "code",
      "metadata": {
        "id": "s2JE_7AUMhhP"
      },
      "source": [
        "#Set Loss and Optimizer\n",
        "criterion = nn.MSELoss()\n",
        "optimizer = torch.optim.SGD(model.parameters(), lr=0.01, momentum=0.7)"
      ],
      "execution_count": 46,
      "outputs": []
    },
    {
      "cell_type": "code",
      "metadata": {
        "id": "pJfgTeH1MryO"
      },
      "source": [
        "#Here we do the actual conversion of the numpy arrays into Torch Tensors\n",
        "inputs = torch.from_numpy(X)\n",
        "targets = torch.from_numpy(Y)\n"
      ],
      "execution_count": 47,
      "outputs": []
    },
    {
      "cell_type": "code",
      "metadata": {
        "colab": {
          "base_uri": "https://localhost:8080/"
        },
        "id": "xvAHm4j1M3Pz",
        "outputId": "7fe17090-50de-477b-b3b6-7e728c209306"
      },
      "source": [
        "#verify the type\n",
        "type(inputs)"
      ],
      "execution_count": 48,
      "outputs": [
        {
          "output_type": "execute_result",
          "data": {
            "text/plain": [
              "torch.Tensor"
            ]
          },
          "metadata": {
            "tags": []
          },
          "execution_count": 48
        }
      ]
    },
    {
      "cell_type": "code",
      "metadata": {
        "colab": {
          "base_uri": "https://localhost:8080/"
        },
        "id": "k2iZ6snqNBhe",
        "outputId": "88b12794-f6e8-432e-8482-92fd4b58b1c8"
      },
      "source": [
        "#Write code to train the models, same as before\n",
        "#you need trial and error till loss per iteration looks right\n",
        "n_epochs = 100\n",
        "losses = []\n",
        "for it in range(n_epochs):\n",
        "  #zero the parameter gradients\n",
        "  optimizer.zero_grad()\n",
        "  #Forward Pass\n",
        "  outputs = model(inputs)\n",
        "  loss = criterion(outputs,targets)\n",
        "\n",
        "  #record the loss\n",
        "  losses.append(loss.item())\n",
        "\n",
        "  #backward pass\n",
        "  loss.backward()\n",
        "  optimizer.step()\n",
        "\n",
        "  print(f'Epoch {it+1}/{n_epochs}, Loss: {loss.item():.4f}')\n"
      ],
      "execution_count": 51,
      "outputs": [
        {
          "output_type": "stream",
          "text": [
            "Epoch 1/100, Loss: 3.0709\n",
            "Epoch 2/100, Loss: 2.9508\n",
            "Epoch 3/100, Loss: 2.7545\n",
            "Epoch 4/100, Loss: 2.5163\n",
            "Epoch 5/100, Loss: 2.2612\n",
            "Epoch 6/100, Loss: 2.0064\n",
            "Epoch 7/100, Loss: 1.7627\n",
            "Epoch 8/100, Loss: 1.5368\n",
            "Epoch 9/100, Loss: 1.3318\n",
            "Epoch 10/100, Loss: 1.1488\n",
            "Epoch 11/100, Loss: 0.9875\n",
            "Epoch 12/100, Loss: 0.8467\n",
            "Epoch 13/100, Loss: 0.7248\n",
            "Epoch 14/100, Loss: 0.6198\n",
            "Epoch 15/100, Loss: 0.5299\n",
            "Epoch 16/100, Loss: 0.4532\n",
            "Epoch 17/100, Loss: 0.3880\n",
            "Epoch 18/100, Loss: 0.3327\n",
            "Epoch 19/100, Loss: 0.2859\n",
            "Epoch 20/100, Loss: 0.2464\n",
            "Epoch 21/100, Loss: 0.2131\n",
            "Epoch 22/100, Loss: 0.1850\n",
            "Epoch 23/100, Loss: 0.1614\n",
            "Epoch 24/100, Loss: 0.1415\n",
            "Epoch 25/100, Loss: 0.1249\n",
            "Epoch 26/100, Loss: 0.1109\n",
            "Epoch 27/100, Loss: 0.0992\n",
            "Epoch 28/100, Loss: 0.0893\n",
            "Epoch 29/100, Loss: 0.0811\n",
            "Epoch 30/100, Loss: 0.0741\n",
            "Epoch 31/100, Loss: 0.0683\n",
            "Epoch 32/100, Loss: 0.0635\n",
            "Epoch 33/100, Loss: 0.0594\n",
            "Epoch 34/100, Loss: 0.0560\n",
            "Epoch 35/100, Loss: 0.0531\n",
            "Epoch 36/100, Loss: 0.0508\n",
            "Epoch 37/100, Loss: 0.0488\n",
            "Epoch 38/100, Loss: 0.0471\n",
            "Epoch 39/100, Loss: 0.0457\n",
            "Epoch 40/100, Loss: 0.0445\n",
            "Epoch 41/100, Loss: 0.0435\n",
            "Epoch 42/100, Loss: 0.0427\n",
            "Epoch 43/100, Loss: 0.0420\n",
            "Epoch 44/100, Loss: 0.0414\n",
            "Epoch 45/100, Loss: 0.0410\n",
            "Epoch 46/100, Loss: 0.0406\n",
            "Epoch 47/100, Loss: 0.0402\n",
            "Epoch 48/100, Loss: 0.0399\n",
            "Epoch 49/100, Loss: 0.0397\n",
            "Epoch 50/100, Loss: 0.0395\n",
            "Epoch 51/100, Loss: 0.0393\n",
            "Epoch 52/100, Loss: 0.0392\n",
            "Epoch 53/100, Loss: 0.0391\n",
            "Epoch 54/100, Loss: 0.0390\n",
            "Epoch 55/100, Loss: 0.0389\n",
            "Epoch 56/100, Loss: 0.0388\n",
            "Epoch 57/100, Loss: 0.0388\n",
            "Epoch 58/100, Loss: 0.0387\n",
            "Epoch 59/100, Loss: 0.0387\n",
            "Epoch 60/100, Loss: 0.0387\n",
            "Epoch 61/100, Loss: 0.0386\n",
            "Epoch 62/100, Loss: 0.0386\n",
            "Epoch 63/100, Loss: 0.0386\n",
            "Epoch 64/100, Loss: 0.0386\n",
            "Epoch 65/100, Loss: 0.0386\n",
            "Epoch 66/100, Loss: 0.0385\n",
            "Epoch 67/100, Loss: 0.0385\n",
            "Epoch 68/100, Loss: 0.0385\n",
            "Epoch 69/100, Loss: 0.0385\n",
            "Epoch 70/100, Loss: 0.0385\n",
            "Epoch 71/100, Loss: 0.0385\n",
            "Epoch 72/100, Loss: 0.0385\n",
            "Epoch 73/100, Loss: 0.0385\n",
            "Epoch 74/100, Loss: 0.0385\n",
            "Epoch 75/100, Loss: 0.0385\n",
            "Epoch 76/100, Loss: 0.0385\n",
            "Epoch 77/100, Loss: 0.0385\n",
            "Epoch 78/100, Loss: 0.0385\n",
            "Epoch 79/100, Loss: 0.0385\n",
            "Epoch 80/100, Loss: 0.0385\n",
            "Epoch 81/100, Loss: 0.0385\n",
            "Epoch 82/100, Loss: 0.0385\n",
            "Epoch 83/100, Loss: 0.0385\n",
            "Epoch 84/100, Loss: 0.0385\n",
            "Epoch 85/100, Loss: 0.0385\n",
            "Epoch 86/100, Loss: 0.0385\n",
            "Epoch 87/100, Loss: 0.0385\n",
            "Epoch 88/100, Loss: 0.0385\n",
            "Epoch 89/100, Loss: 0.0385\n",
            "Epoch 90/100, Loss: 0.0385\n",
            "Epoch 91/100, Loss: 0.0385\n",
            "Epoch 92/100, Loss: 0.0385\n",
            "Epoch 93/100, Loss: 0.0385\n",
            "Epoch 94/100, Loss: 0.0385\n",
            "Epoch 95/100, Loss: 0.0385\n",
            "Epoch 96/100, Loss: 0.0385\n",
            "Epoch 97/100, Loss: 0.0385\n",
            "Epoch 98/100, Loss: 0.0385\n",
            "Epoch 99/100, Loss: 0.0385\n",
            "Epoch 100/100, Loss: 0.0385\n"
          ],
          "name": "stdout"
        }
      ]
    },
    {
      "cell_type": "code",
      "metadata": {
        "colab": {
          "base_uri": "https://localhost:8080/",
          "height": 282
        },
        "id": "MKT6AX4JN0RE",
        "outputId": "67f40834-9395-40fc-db45-96010e0690e9"
      },
      "source": [
        "#no need to use scatterplot, just plot the losses array\n",
        "#losses is a 1-D array, so plot just adds the X Axis by itself (based on num of rows)\n",
        "#verify that loss has converged\n",
        "#losses\n",
        "plt.plot(losses)"
      ],
      "execution_count": 54,
      "outputs": [
        {
          "output_type": "execute_result",
          "data": {
            "text/plain": [
              "[<matplotlib.lines.Line2D at 0x7fe7ed20fa50>]"
            ]
          },
          "metadata": {
            "tags": []
          },
          "execution_count": 54
        },
        {
          "output_type": "display_data",
          "data": {
            "image/png": "[encoded data removed]",
            "text/plain": [
              "<Figure size 432x288 with 1 Axes>"
            ]
          },
          "metadata": {
            "tags": [],
            "needs_background": "light"
          }
        }
      ]
    },
    {
      "cell_type": "code",
      "metadata": {
        "colab": {
          "base_uri": "https://localhost:8080/",
          "height": 265
        },
        "id": "H3ancKSoOqZ4",
        "outputId": "0e418157-15dc-4a5c-f040-b19937e4b185"
      },
      "source": [
        "#we are now detaching the data from Torch tensor and getting it back into Numpy Array\n",
        "#plot line of best fit\n",
        "predicted = model(torch.from_numpy(X)).detach().numpy()\n",
        "plt.plot(X,Y, 'ro', label = 'Original data')\n",
        "plt.plot(X,predicted, label = 'Fitted line')\n",
        "plt.legend()\n",
        "plt.show()\n"
      ],
      "execution_count": 56,
      "outputs": [
        {
          "output_type": "display_data",
          "data": {
            "image/png": "[encoded data removed]",
            "text/plain": [
              "<Figure size 432x288 with 1 Axes>"
            ]
          },
          "metadata": {
            "tags": [],
            "needs_background": "light"
          }
        }
      ]
    },
    {
      "cell_type": "code",
      "metadata": {
        "colab": {
          "base_uri": "https://localhost:8080/"
        },
        "id": "qICF3r48Oue2",
        "outputId": "53f6cc0e-cf09-413a-af16-aa1e7541f10e"
      },
      "source": [
        "#get the trained weights of the model\n",
        "w = model.weight.data.numpy()\n",
        "print(w)"
      ],
      "execution_count": 57,
      "outputs": [
        {
          "output_type": "stream",
          "text": [
            "[[0.98024094]]\n"
          ],
          "name": "stdout"
        }
      ]
    },
    {
      "cell_type": "code",
      "metadata": {
        "colab": {
          "base_uri": "https://localhost:8080/"
        },
        "id": "DD2cDkLxP9ND",
        "outputId": "077e1eb4-041f-4200-8670-a644e9864ffe"
      },
      "source": [
        "a = w[0,0] * stdy / stdx\n",
        "print(a)\n"
      ],
      "execution_count": 59,
      "outputs": [
        {
          "output_type": "stream",
          "text": [
            "0.341567434622701\n"
          ],
          "name": "stdout"
        }
      ]
    },
    {
      "cell_type": "code",
      "metadata": {
        "colab": {
          "base_uri": "https://localhost:8080/"
        },
        "id": "z2ZX_QveSRIX",
        "outputId": "04b4cd76-8f92-4dbe-f3b9-91e2599a10be"
      },
      "source": [
        "#we are finally able to confirm that it takes around 2 years for number of transistors to double\n",
        "print('Time to double', np.log(2) / a)\n"
      ],
      "execution_count": 60,
      "outputs": [
        {
          "output_type": "stream",
          "text": [
            "Time to double 2.0293128392804864\n"
          ],
          "name": "stdout"
        }
      ]
    },
    {
      "cell_type": "code",
      "metadata": {
        "id": "c8A1tWhRSVkt"
      },
      "source": [
        ""
      ],
      "execution_count": null,
      "outputs": []
    }
  ]
}